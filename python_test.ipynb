{
 "cells": [
  {
   "cell_type": "code",
   "execution_count": 1,
   "metadata": {},
   "outputs": [],
   "source": [
    "from ctypes import *\n",
    "dll = WinDLL(\"CTA-railway.dll\")"
   ]
  },
  {
   "cell_type": "code",
   "execution_count": 2,
   "metadata": {},
   "outputs": [
    {
     "data": {
      "text/plain": [
       "376"
      ]
     },
     "execution_count": 2,
     "metadata": {},
     "output_type": "execute_result"
    }
   ],
   "source": [
    "dll.initSim()"
   ]
  },
  {
   "cell_type": "code",
   "execution_count": 3,
   "metadata": {},
   "outputs": [
    {
     "data": {
      "text/plain": [
       "1709469856"
      ]
     },
     "execution_count": 3,
     "metadata": {},
     "output_type": "execute_result"
    }
   ],
   "source": [
    "dll.runSim()"
   ]
  },
  {
   "cell_type": "code",
   "execution_count": 4,
   "metadata": {},
   "outputs": [
    {
     "data": {
      "text/plain": [
       "1"
      ]
     },
     "execution_count": 4,
     "metadata": {},
     "output_type": "execute_result"
    }
   ],
   "source": [
    "dll.SimIsFinished()"
   ]
  },
  {
   "cell_type": "code",
   "execution_count": 11,
   "metadata": {},
   "outputs": [
    {
     "name": "stdout",
     "output_type": "stream",
     "text": [
      "1646451.6\n"
     ]
    }
   ],
   "source": [
    "dll.getTotalTravelTime.restype = c_double   \n",
    "totalTravelTime = dll.getTotalTravelTime()/3600.0\n",
    "print('%.1f' % totalTravelTime)"
   ]
  },
  {
   "cell_type": "code",
   "execution_count": 12,
   "metadata": {},
   "outputs": [
    {
     "name": "stdout",
     "output_type": "stream",
     "text": [
      "1546790.8\n"
     ]
    }
   ],
   "source": [
    "dll.getTotalDelay.restype = c_double   \n",
    "totalDelay = dll.getTotalDelay()/3600.0\n",
    "print('%.1f' % totalDelay)"
   ]
  },
  {
   "cell_type": "code",
   "execution_count": 16,
   "metadata": {},
   "outputs": [
    {
     "name": "stdout",
     "output_type": "stream",
     "text": [
      "[[ 5.20000000e+01  2.19118860e+08  0.00000000e+00  2.19118912e+08]\n",
      " [ 7.80000000e+01  1.92020640e+08 -1.55869200e+07  1.92020718e+08]\n",
      " [ 6.10000000e+01  1.27100760e+08 -6.58857000e+06  1.27100821e+08]\n",
      " ...\n",
      " [ 2.00000000e+01 -5.37119100e+07 -3.15028800e+07 -5.37118900e+07]\n",
      " [ 9.20000000e+01 -9.24807000e+07 -1.45435290e+08 -9.24806080e+07]\n",
      " [ 3.50000000e+01 -1.32060900e+08 -1.56060000e+05 -1.32060865e+08]]\n"
     ]
    }
   ],
   "source": [
    "# 分析各个站的delay\n",
    "import numpy as np\n",
    "\n",
    "dll.getStationDelay.argtypes = [c_int, c_int]\n",
    "dll.getStationDelay.restype = c_double\n",
    "delays = []\n",
    "for station in range(252):\n",
    "    buffer = [station]\n",
    "    buffer.append(dll.getStationDelay(station, 0))\n",
    "    buffer.append(dll.getStationDelay(station, 1))\n",
    "    buffer.append(buffer[0]+buffer[1])\n",
    "    delays.append(buffer)\n",
    "\n",
    "delay = np.array(delays)\n",
    "print(delay[np.lexsort(-delay.T)])"
   ]
  },
  {
   "cell_type": "code",
   "execution_count": null,
   "metadata": {},
   "outputs": [],
   "source": []
  }
 ],
 "metadata": {
  "kernelspec": {
   "display_name": "Python 3",
   "language": "python",
   "name": "python3"
  },
  "language_info": {
   "codemirror_mode": {
    "name": "ipython",
    "version": 3
   },
   "file_extension": ".py",
   "mimetype": "text/x-python",
   "name": "python",
   "nbconvert_exporter": "python",
   "pygments_lexer": "ipython3",
   "version": "3.7.7"
  }
 },
 "nbformat": 4,
 "nbformat_minor": 4
}
